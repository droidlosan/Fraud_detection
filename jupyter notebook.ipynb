{
 "cells": [
  {
   "cell_type": "code",
   "execution_count": null,
   "metadata": {},
   "outputs": [],
   "source": [
    "import numpy as np\n",
    "import sklearn as sk\n",
    "import pandas as pd\n",
    "import matplotlib.pyplot as plt\n",
    "from sklearn.preprocessing import scale\n",
    "import random"
   ]
  },
  {
   "cell_type": "code",
   "execution_count": null,
   "metadata": {},
   "outputs": [],
   "source": [
    "df = pd.read_csv('train_transaction.csv',low_memory=False)\n",
    "df = df.sample(frac=1).reset_index(drop=True)\n",
    "\n",
    "df.head()"
   ]
  },
  {
   "cell_type": "code",
   "execution_count": null,
   "metadata": {},
   "outputs": [],
   "source": [
    "df.drop(['ProductCD'],inplace=True, axis=1)\n",
    "df.drop(['card4'],inplace=True, axis=1)\n",
    "df.drop(['card6'],inplace=True, axis=1)\n",
    "df.drop(['R_emaildomain'],inplace=True, axis=1)\n",
    "df.drop(['P_emaildomain'],inplace=True, axis=1)\n",
    "df.drop(['C1'],inplace=True, axis=1)\n",
    "df.drop(['C2'],inplace=True, axis=1)\n",
    "df.drop(['C3'],inplace=True, axis=1)\n",
    "df.drop(['C4'],inplace=True, axis=1)\n",
    "df.drop(['C5'],inplace=True, axis=1)\n",
    "df.drop(['C6'],inplace=True, axis=1)\n",
    "df.drop(['C7'],inplace=True, axis=1)\n",
    "df.drop(['C8'],inplace=True, axis=1)\n",
    "df.drop(['C9'],inplace=True, axis=1)\n",
    "df.drop(['C10'],inplace=True, axis=1)\n",
    "df.drop(['C11'],inplace=True, axis=1)\n",
    "df.drop(['C12'],inplace=True, axis=1)\n",
    "df.drop(['C13'],inplace=True, axis=1)\n",
    "df.drop(['C14'],inplace=True, axis=1)\n",
    "df.drop(['M1'],inplace=True, axis=1)\n",
    "df.drop(['M2'],inplace=True, axis=1)\n",
    "df.drop(['M3'],inplace=True, axis=1)\n",
    "df.drop(['M4'],inplace=True, axis=1)\n",
    "df.drop(['M5'],inplace=True, axis=1)\n",
    "df.drop(['M6'],inplace=True, axis=1)\n",
    "df.drop(['M7'],inplace=True, axis=1)\n",
    "df.drop(['M8'],inplace=True, axis=1)\n",
    "df.drop(['M9'],inplace=True, axis=1)"
   ]
  },
  {
   "cell_type": "code",
   "execution_count": null,
   "metadata": {},
   "outputs": [],
   "source": [
    "fraud = df.loc[df['isFraud'] == 1]\n",
    "non_frauds = df.loc[df['isFraud'] == 0]\n",
    "print (len(fraud))\n",
    "print(len(non_frauds))"
   ]
  },
  {
   "cell_type": "code",
   "execution_count": null,
   "metadata": {},
   "outputs": [],
   "source": [
    "ax = fraud.plot.scatter(x ='TransactionAmt', y='isFraud', color= 'Orange',label='Fraud')\n",
    "non_frauds.plot.scatter(x='TransactionAmt', y='isFraud',color='Blue',label='Normal', ax=ax)\n",
    "plt.show()"
   ]
  },
  {
   "cell_type": "code",
   "execution_count": null,
   "metadata": {},
   "outputs": [],
   "source": [
    "from sklearn import linear_model\n",
    "from sklearn.model_selection import train_test_split\n",
    "\n",
    "x =df.iloc[:,:-1]\n",
    "y=df['isFraud']\n",
    "X_train, X_test, y_train, y_test=train_test_split(x,y,test_size=0.35)"
   ]
  },
  {
   "cell_type": "code",
   "execution_count": null,
   "metadata": {},
   "outputs": [],
   "source": [
    "logistic = linear_model.LogisticRegression(C=1e5)\n",
    "logistic.fit(X_train,y_train)\n",
    "print('Score: ', logistic.score(X_test, y_test))"
   ]
  },
  {
   "cell_type": "code",
   "execution_count": null,
   "metadata": {},
   "outputs": [],
   "source": [
    "y_predicted= np.array(logistic.predict(X_test))\n",
    "print(y_predicted)"
   ]
  }
 ],
 "metadata": {
  "kernelspec": {
   "display_name": "Python 3",
   "language": "python",
   "name": "python3"
  },
  "language_info": {
   "codemirror_mode": {
    "name": "ipython",
    "version": 3
   },
   "file_extension": ".py",
   "mimetype": "text/x-python",
   "name": "python",
   "nbconvert_exporter": "python",
   "pygments_lexer": "ipython3",
   "version": "3.7.3"
  }
 },
 "nbformat": 4,
 "nbformat_minor": 2
}
